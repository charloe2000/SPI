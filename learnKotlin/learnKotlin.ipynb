{
 "cells": [
  {
   "source": [
    "## 2.1 Run Kotlin Code"
   ],
   "cell_type": "markdown",
   "metadata": {}
  },
  {
   "cell_type": "code",
   "execution_count": 1,
   "id": "manual-billy",
   "metadata": {},
   "outputs": [
    {
     "output_type": "stream",
     "name": "stdout",
     "text": [
      "hello, Kotlin\n"
     ]
    }
   ],
   "source": [
    "println(\"hello, Kotlin\")"
   ]
  },
  {
   "source": [
    "## 2.3 变量与函数"
   ],
   "cell_type": "markdown",
   "metadata": {}
  },
  {
   "cell_type": "code",
   "execution_count": 2,
   "id": "binding-petroleum",
   "metadata": {},
   "outputs": [],
   "source": [
    "fun main(){\n",
    "    var a = 10\n",
    "    println(\"a = \" + a)\n",
    "}"
   ]
  },
  {
   "cell_type": "code",
   "execution_count": 3,
   "id": "statewide-china",
   "metadata": {},
   "outputs": [
    {
     "output_type": "stream",
     "name": "stdout",
     "text": [
      "a = 10\n"
     ]
    }
   ],
   "source": [
    "main()"
   ]
  },
  {
   "cell_type": "code",
   "execution_count": 2,
   "metadata": {},
   "outputs": [
    {
     "output_type": "stream",
     "name": "stdout",
     "text": [
      "a = 10\n"
     ]
    }
   ],
   "source": [
    "val a = 10\n",
    "println(\"a = \" + a)"
   ]
  },
  {
   "cell_type": "code",
   "execution_count": 5,
   "metadata": {},
   "outputs": [
    {
     "output_type": "execute_result",
     "data": {
      "text/plain": [
       "10"
      ]
     },
     "metadata": {
      "new_classpath": []
     },
     "execution_count": 5
    }
   ],
   "source": [
    "val a: Int = 10\n",
    "a"
   ]
  },
  {
   "cell_type": "code",
   "execution_count": 10,
   "metadata": {},
   "outputs": [
    {
     "output_type": "execute_result",
     "data": {
      "text/plain": [
       "100"
      ]
     },
     "metadata": {
      "new_classpath": []
     },
     "execution_count": 10
    }
   ],
   "source": [
    "var a = 10\n",
    "a *= 10\n",
    "a"
   ]
  },
  {
   "cell_type": "code",
   "execution_count": 12,
   "metadata": {},
   "outputs": [],
   "source": [
    "fun largerNumber(num1: Int, num2: Int): Int {\n",
    "    return max(num1, num2)\n",
    "}"
   ]
  },
  {
   "cell_type": "code",
   "execution_count": 14,
   "metadata": {},
   "outputs": [
    {
     "output_type": "stream",
     "name": "stdout",
     "text": [
      "Larger Number is 20\n"
     ]
    }
   ],
   "source": [
    "val a = 10\n",
    "val b = 20\n",
    "val c = largerNumber(a, b)\n",
    "println(\"Larger Number is \" + c)"
   ]
  },
  {
   "cell_type": "code",
   "execution_count": 15,
   "metadata": {},
   "outputs": [],
   "source": [
    "fun largerNumber(num1: Int, num2: Int): Int = max(num1, num2)"
   ]
  },
  {
   "cell_type": "code",
   "execution_count": 16,
   "metadata": {},
   "outputs": [
    {
     "output_type": "execute_result",
     "data": {
      "text/plain": [
       "4"
      ]
     },
     "metadata": {
      "new_classpath": []
     },
     "execution_count": 16
    }
   ],
   "source": [
    "largerNumber(3, 4)"
   ]
  },
  {
   "source": [
    "## 2.4 逻辑控制"
   ],
   "cell_type": "markdown",
   "metadata": {}
  },
  {
   "cell_type": "code",
   "execution_count": 17,
   "metadata": {},
   "outputs": [],
   "source": [
    "fun largerNumber(num1: Int, num2: Int): Int = if (num1 > num2) num1 else num2"
   ]
  },
  {
   "cell_type": "code",
   "execution_count": 18,
   "metadata": {},
   "outputs": [
    {
     "output_type": "execute_result",
     "data": {
      "text/plain": [
       "5"
      ]
     },
     "metadata": {
      "new_classpath": []
     },
     "execution_count": 18
    }
   ],
   "source": [
    "largerNumber(4, 5)"
   ]
  },
  {
   "cell_type": "code",
   "execution_count": 20,
   "metadata": {},
   "outputs": [],
   "source": [
    "fun getScore(name: String): Int = when (name) {\n",
    "    \"Tom\" -> 86\n",
    "    \"Jim\" -> 90\n",
    "    \"John\" -> 70\n",
    "    \"Jack\" -> 78\n",
    "    else -> 0\n",
    "}"
   ]
  },
  {
   "cell_type": "code",
   "execution_count": 21,
   "metadata": {},
   "outputs": [
    {
     "output_type": "execute_result",
     "data": {
      "text/plain": [
       "78"
      ]
     },
     "metadata": {
      "new_classpath": []
     },
     "execution_count": 21
    }
   ],
   "source": [
    "getScore(\"Jack\")"
   ]
  },
  {
   "cell_type": "code",
   "execution_count": 23,
   "metadata": {},
   "outputs": [],
   "source": [
    "fun checkNumber(num: Number) {\n",
    "    when (num) {\n",
    "        is Int -> println(\"Number is Int\")\n",
    "        is Double -> println(\"Number is Double\")\n",
    "        else -> println(\"Not support\")\n",
    "    }\n",
    "}"
   ]
  },
  {
   "cell_type": "code",
   "execution_count": 24,
   "metadata": {},
   "outputs": [
    {
     "output_type": "stream",
     "name": "stdout",
     "text": [
      "Number is Double\n"
     ]
    }
   ],
   "source": [
    "checkNumber(2.0)"
   ]
  },
  {
   "cell_type": "code",
   "execution_count": 28,
   "metadata": {},
   "outputs": [
    {
     "output_type": "stream",
     "name": "stdout",
     "text": [
      "Not support\n"
     ]
    }
   ],
   "source": [
    "// long 类型\n",
    "checkNumber(10L)"
   ]
  },
  {
   "cell_type": "code",
   "execution_count": 29,
   "metadata": {},
   "outputs": [
    {
     "output_type": "stream",
     "name": "stdout",
     "text": [
      "0\n1\n2\n3\n4\n5\n6\n7\n8\n9\n10\n"
     ]
    }
   ],
   "source": [
    "for (i in 0..10) {\n",
    "    println(i)\n",
    "}"
   ]
  },
  {
   "cell_type": "code",
   "execution_count": 31,
   "metadata": {},
   "outputs": [
    {
     "output_type": "execute_result",
     "data": {
      "text/plain": [
       "0..10"
      ]
     },
     "metadata": {
      "new_classpath": []
     },
     "execution_count": 31
    }
   ],
   "source": [
    "val range = 0..10\n",
    "range"
   ]
  },
  {
   "cell_type": "code",
   "execution_count": 33,
   "metadata": {},
   "outputs": [
    {
     "output_type": "execute_result",
     "data": {
      "text/plain": [
       "0..9"
      ]
     },
     "metadata": {
      "new_classpath": []
     },
     "execution_count": 33
    }
   ],
   "source": [
    "val range = 0 until 10\n",
    "range"
   ]
  },
  {
   "cell_type": "code",
   "execution_count": 34,
   "metadata": {},
   "outputs": [
    {
     "output_type": "stream",
     "name": "stdout",
     "text": [
      "0\n2\n4\n6\n8\n"
     ]
    }
   ],
   "source": [
    "for (i in 0 until 10 step 2)\n",
    "    println(i)"
   ]
  },
  {
   "cell_type": "code",
   "execution_count": 36,
   "metadata": {},
   "outputs": [
    {
     "output_type": "stream",
     "name": "stdout",
     "text": [
      "10\n8\n6\n4\n2\n"
     ]
    }
   ],
   "source": [
    "for (i in 10 downTo 1 step 2)\n",
    "    println(i)"
   ]
  },
  {
   "source": [
    "## 2.5 面向对象"
   ],
   "cell_type": "markdown",
   "metadata": {}
  },
  {
   "cell_type": "code",
   "execution_count": 6,
   "metadata": {},
   "outputs": [],
   "source": [
    "open class Person() {\n",
    "    var name = \"\"\n",
    "    var age = 0\n",
    "\n",
    "    fun eat() {\n",
    "        println(name + \" is eating. He is \" + age + \" years old.\")\n",
    "    }\n",
    "}"
   ]
  },
  {
   "cell_type": "code",
   "execution_count": 4,
   "metadata": {},
   "outputs": [
    {
     "output_type": "stream",
     "name": "stdout",
     "text": [
      "Jack is eating. He is 19 years old.\n"
     ]
    }
   ],
   "source": [
    "val p = Person()\n",
    "p.name = \"Jack\"\n",
    "p.age = 19\n",
    "p.eat()"
   ]
  },
  {
   "cell_type": "code",
   "execution_count": 7,
   "metadata": {},
   "outputs": [],
   "source": [
    "class Student : Person() {\n",
    "    var sno = \"\"\n",
    "    var grade = 0\n",
    "}"
   ]
  },
  {
   "cell_type": "code",
   "execution_count": 8,
   "metadata": {},
   "outputs": [],
   "source": [
    "class Student(val sno: String, val grade: Int) : Person() {\n",
    "    init {\n",
    "        println(\"Sno is \" + sno)\n",
    "        println(\"Grade is \" + grade)\n",
    "    }\n",
    "}"
   ]
  },
  {
   "cell_type": "code",
   "execution_count": 9,
   "metadata": {},
   "outputs": [
    {
     "output_type": "stream",
     "name": "stdout",
     "text": [
      "Sno is 123\nGrade is 90\n"
     ]
    }
   ],
   "source": [
    "val stu = Student(\"123\", 90)"
   ]
  },
  {
   "cell_type": "code",
   "execution_count": 10,
   "metadata": {},
   "outputs": [],
   "source": [
    "open class Person(var name: String, var age: Int) {\n",
    "    fun eat() {\n",
    "        println(name + \" is eating. He is \" + age + \" years old.\")\n",
    "    }\n",
    "}"
   ]
  },
  {
   "cell_type": "code",
   "execution_count": 15,
   "metadata": {},
   "outputs": [],
   "source": [
    "class Student(val sno: String, val grade: Int, name: String, age: Int) : Person(name, age) {\n",
    "    init {\n",
    "        println(\"Sno is \" + sno)\n",
    "        println(\"Grade is \" + grade)\n",
    "        println(\"Name is \" + name)\n",
    "        println(\"Age is \" + age)\n",
    "    }\n",
    "}"
   ]
  },
  {
   "cell_type": "code",
   "execution_count": 16,
   "metadata": {},
   "outputs": [
    {
     "output_type": "stream",
     "name": "stdout",
     "text": [
      "Sno is 123\nGrade is 90\nName is Jack\nAge is 19\n"
     ]
    }
   ],
   "source": [
    "val stu = Student(\"123\", 90, \"Jack\", 19)"
   ]
  },
  {
   "cell_type": "code",
   "execution_count": 17,
   "metadata": {},
   "outputs": [],
   "source": [
    "class Student(val sno: String, val grade: Int, name: String, age: Int) : Person(name, age) {\n",
    "    init {\n",
    "        println(\"Sno is \" + sno)\n",
    "        println(\"Grade is \" + grade)\n",
    "        println(\"Name is \" + name)\n",
    "        println(\"Age is \" + age)\n",
    "    }\n",
    "\n",
    "    constructor(name: String, age: Int): this(\"\", 0, name, age) {}\n",
    "    constructor(): this(\"\", 0) {}\n",
    "}"
   ]
  },
  {
   "cell_type": "code",
   "execution_count": 18,
   "metadata": {},
   "outputs": [
    {
     "output_type": "stream",
     "name": "stdout",
     "text": [
      "Sno is \n",
      "Grade is 0\n",
      "Name is \n",
      "Age is 0\n",
      "Sno is \n",
      "Grade is 0\n",
      "Name is Jack\n",
      "Age is 18\n",
      "Sno is 123\n",
      "Grade is 1\n",
      "Name is Jack\n",
      "Age is 18\n"
     ]
    }
   ],
   "source": [
    "val stu1 = Student()\n",
    "val stu2 = Student(\"Jack\", 18)\n",
    "val stu3 = Student(\"123\", 1, \"Jack\", 18)"
   ]
  },
  {
   "cell_type": "code",
   "execution_count": 19,
   "metadata": {},
   "outputs": [],
   "source": [
    "interface Study {\n",
    "    fun readBooks()\n",
    "    fun doHomeworks()\n",
    "}"
   ]
  },
  {
   "cell_type": "code",
   "execution_count": 21,
   "metadata": {},
   "outputs": [],
   "source": [
    "class Student(val sno: String, val grade: Int, name: String, age: Int) : \n",
    "    Person(name, age), Study \n",
    "{\n",
    "    init {\n",
    "        println(\"Sno is \" + sno)\n",
    "        println(\"Grade is \" + grade)\n",
    "        println(\"Name is \" + name)\n",
    "        println(\"Age is \" + age)\n",
    "    }\n",
    "\n",
    "    constructor(name: String, age: Int): this(\"\", 0, name, age) {}\n",
    "    constructor(): this(\"\", 0) {}\n",
    "\n",
    "    override fun readBooks() {\n",
    "        println(name + \" is reading books.\")\n",
    "    }\n",
    "\n",
    "    override fun doHomeworks() {\n",
    "        println(name + \" is doing homeworks.\")\n",
    "    }\n",
    "}"
   ]
  },
  {
   "cell_type": "code",
   "execution_count": 23,
   "metadata": {},
   "outputs": [],
   "source": [
    "fun doStudy(study: Study) {\n",
    "    study.readBooks()\n",
    "    study.doHomeworks()\n",
    "}"
   ]
  },
  {
   "cell_type": "code",
   "execution_count": 24,
   "metadata": {},
   "outputs": [
    {
     "output_type": "stream",
     "name": "stdout",
     "text": [
      "Sno is \nGrade is 0\nName is Jack\nAge is 18\nJack is reading books.\nJack is doing homeworks.\n"
     ]
    }
   ],
   "source": [
    "val stu = Student(\"Jack\", 18)\n",
    "doStudy(stu)"
   ]
  },
  {
   "cell_type": "code",
   "execution_count": 25,
   "metadata": {},
   "outputs": [],
   "source": [
    "data class CellPhone(var brand: String, var price: Double)"
   ]
  },
  {
   "cell_type": "code",
   "execution_count": 27,
   "metadata": {},
   "outputs": [
    {
     "output_type": "execute_result",
     "data": {
      "text/plain": [
       "true"
      ]
     },
     "metadata": {
      "new_classpath": []
     },
     "execution_count": 27
    }
   ],
   "source": [
    "val cp1 = CellPhone(\"huawei\", 999.0)\n",
    "val cp2 = CellPhone(\"huawei\", 999.0)\n",
    "cp1.equals(cp2)"
   ]
  },
  {
   "cell_type": "code",
   "execution_count": 30,
   "metadata": {},
   "outputs": [],
   "source": [
    "object Singleton {\n",
    "    fun singletonTest() {\n",
    "        println(\"singletonTest is called.\")\n",
    "    }\n",
    "}"
   ]
  },
  {
   "cell_type": "code",
   "execution_count": 31,
   "metadata": {},
   "outputs": [
    {
     "output_type": "stream",
     "name": "stdout",
     "text": [
      "singletonTest is called.\n"
     ]
    }
   ],
   "source": [
    "Singleton.singletonTest()"
   ]
  },
  {
   "cell_type": "code",
   "execution_count": null,
   "metadata": {},
   "outputs": [],
   "source": []
  }
 ],
 "metadata": {
  "kernelspec": {
   "display_name": "Kotlin",
   "language": "kotlin",
   "name": "kotlin"
  },
  "language_info": {
   "codemirror_mode": "text/x-kotlin",
   "file_extension": ".kt",
   "mimetype": "text/x-kotlin",
   "name": "kotlin",
   "pygments_lexer": "kotlin",
   "version": "1.5.0-dev-1206"
  }
 },
 "nbformat": 4,
 "nbformat_minor": 5
}