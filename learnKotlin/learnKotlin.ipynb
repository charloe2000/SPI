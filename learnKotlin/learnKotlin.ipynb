{
 "cells": [
  {
   "cell_type": "code",
   "execution_count": 1,
   "id": "manual-billy",
   "metadata": {},
   "outputs": [
    {
     "output_type": "stream",
     "name": "stdout",
     "text": [
      "hello, Kotlin\n"
     ]
    }
   ],
   "source": [
    "println(\"hello, Kotlin\")"
   ]
  },
  {
   "cell_type": "code",
   "execution_count": 2,
   "id": "binding-petroleum",
   "metadata": {},
   "outputs": [],
   "source": [
    "fun main(){\n",
    "    var a = 10\n",
    "    println(\"a = \" + a)\n",
    "}"
   ]
  },
  {
   "cell_type": "code",
   "execution_count": 3,
   "id": "statewide-china",
   "metadata": {},
   "outputs": [
    {
     "output_type": "stream",
     "name": "stdout",
     "text": [
      "a = 10\n"
     ]
    }
   ],
   "source": [
    "main()"
   ]
  },
  {
   "cell_type": "code",
   "execution_count": 2,
   "metadata": {},
   "outputs": [
    {
     "output_type": "stream",
     "name": "stdout",
     "text": [
      "a = 10\n"
     ]
    }
   ],
   "source": [
    "val a = 10\n",
    "println(\"a = \" + a)"
   ]
  },
  {
   "cell_type": "code",
   "execution_count": 5,
   "metadata": {},
   "outputs": [
    {
     "output_type": "execute_result",
     "data": {
      "text/plain": [
       "10"
      ]
     },
     "metadata": {
      "new_classpath": []
     },
     "execution_count": 5
    }
   ],
   "source": [
    "val a: Int = 10\n",
    "a"
   ]
  },
  {
   "cell_type": "code",
   "execution_count": 10,
   "metadata": {},
   "outputs": [
    {
     "output_type": "execute_result",
     "data": {
      "text/plain": [
       "100"
      ]
     },
     "metadata": {
      "new_classpath": []
     },
     "execution_count": 10
    }
   ],
   "source": [
    "var a = 10\n",
    "a *= 10\n",
    "a"
   ]
  },
  {
   "cell_type": "code",
   "execution_count": 12,
   "metadata": {},
   "outputs": [],
   "source": [
    "fun largerNumber(num1: Int, num2: Int): Int {\n",
    "    return max(num1, num2)\n",
    "}"
   ]
  },
  {
   "cell_type": "code",
   "execution_count": 14,
   "metadata": {},
   "outputs": [
    {
     "output_type": "stream",
     "name": "stdout",
     "text": [
      "Larger Number is 20\n"
     ]
    }
   ],
   "source": [
    "val a = 10\n",
    "val b = 20\n",
    "val c = largerNumber(a, b)\n",
    "println(\"Larger Number is \" + c)"
   ]
  },
  {
   "cell_type": "code",
   "execution_count": 15,
   "metadata": {},
   "outputs": [],
   "source": [
    "fun largerNumber(num1: Int, num2: Int): Int = max(num1, num2)"
   ]
  },
  {
   "cell_type": "code",
   "execution_count": 16,
   "metadata": {},
   "outputs": [
    {
     "output_type": "execute_result",
     "data": {
      "text/plain": [
       "4"
      ]
     },
     "metadata": {
      "new_classpath": []
     },
     "execution_count": 16
    }
   ],
   "source": [
    "largerNumber(3, 4)"
   ]
  },
  {
   "cell_type": "code",
   "execution_count": 17,
   "metadata": {},
   "outputs": [],
   "source": [
    "fun largerNumber(num1: Int, num2: Int): Int = if (num1 > num2) num1 else num2"
   ]
  },
  {
   "cell_type": "code",
   "execution_count": 18,
   "metadata": {},
   "outputs": [
    {
     "output_type": "execute_result",
     "data": {
      "text/plain": [
       "5"
      ]
     },
     "metadata": {
      "new_classpath": []
     },
     "execution_count": 18
    }
   ],
   "source": [
    "largerNumber(4, 5)"
   ]
  },
  {
   "cell_type": "code",
   "execution_count": 20,
   "metadata": {},
   "outputs": [],
   "source": [
    "fun getScore(name: String): Int = when (name) {\n",
    "    \"Tom\" -> 86\n",
    "    \"Jim\" -> 90\n",
    "    \"John\" -> 70\n",
    "    \"Jack\" -> 78\n",
    "    else -> 0\n",
    "}"
   ]
  },
  {
   "cell_type": "code",
   "execution_count": 21,
   "metadata": {},
   "outputs": [
    {
     "output_type": "execute_result",
     "data": {
      "text/plain": [
       "78"
      ]
     },
     "metadata": {
      "new_classpath": []
     },
     "execution_count": 21
    }
   ],
   "source": [
    "getScore(\"Jack\")"
   ]
  },
  {
   "cell_type": "code",
   "execution_count": 23,
   "metadata": {},
   "outputs": [],
   "source": [
    "fun checkNumber(num: Number) {\n",
    "    when (num) {\n",
    "        is Int -> println(\"Number is Int\")\n",
    "        is Double -> println(\"Number is Double\")\n",
    "        else -> println(\"Not support\")\n",
    "    }\n",
    "}"
   ]
  },
  {
   "cell_type": "code",
   "execution_count": 24,
   "metadata": {},
   "outputs": [
    {
     "output_type": "stream",
     "name": "stdout",
     "text": [
      "Number is Double\n"
     ]
    }
   ],
   "source": [
    "checkNumber(2.0)"
   ]
  },
  {
   "cell_type": "code",
   "execution_count": 28,
   "metadata": {},
   "outputs": [
    {
     "output_type": "stream",
     "name": "stdout",
     "text": [
      "Not support\n"
     ]
    }
   ],
   "source": [
    "// long 类型\n",
    "checkNumber(10L)"
   ]
  },
  {
   "cell_type": "code",
   "execution_count": 29,
   "metadata": {},
   "outputs": [
    {
     "output_type": "stream",
     "name": "stdout",
     "text": [
      "0\n1\n2\n3\n4\n5\n6\n7\n8\n9\n10\n"
     ]
    }
   ],
   "source": [
    "for (i in 0..10) {\n",
    "    println(i)\n",
    "}"
   ]
  },
  {
   "cell_type": "code",
   "execution_count": 31,
   "metadata": {},
   "outputs": [
    {
     "output_type": "execute_result",
     "data": {
      "text/plain": [
       "0..10"
      ]
     },
     "metadata": {
      "new_classpath": []
     },
     "execution_count": 31
    }
   ],
   "source": [
    "val range = 0..10\n",
    "range"
   ]
  },
  {
   "cell_type": "code",
   "execution_count": 33,
   "metadata": {},
   "outputs": [
    {
     "output_type": "execute_result",
     "data": {
      "text/plain": [
       "0..9"
      ]
     },
     "metadata": {
      "new_classpath": []
     },
     "execution_count": 33
    }
   ],
   "source": [
    "val range = 0 until 10\n",
    "range"
   ]
  },
  {
   "cell_type": "code",
   "execution_count": 34,
   "metadata": {},
   "outputs": [
    {
     "output_type": "stream",
     "name": "stdout",
     "text": [
      "0\n2\n4\n6\n8\n"
     ]
    }
   ],
   "source": [
    "for (i in 0 until 10 step 2)\n",
    "    println(i)"
   ]
  },
  {
   "cell_type": "code",
   "execution_count": 36,
   "metadata": {},
   "outputs": [
    {
     "output_type": "stream",
     "name": "stdout",
     "text": [
      "10\n8\n6\n4\n2\n"
     ]
    }
   ],
   "source": [
    "for (i in 10 downTo 1 step 2)\n",
    "    println(i)"
   ]
  },
  {
   "cell_type": "code",
   "execution_count": null,
   "metadata": {},
   "outputs": [],
   "source": []
  }
 ],
 "metadata": {
  "kernelspec": {
   "display_name": "Kotlin",
   "language": "kotlin",
   "name": "kotlin"
  },
  "language_info": {
   "codemirror_mode": "text/x-kotlin",
   "file_extension": ".kt",
   "mimetype": "text/x-kotlin",
   "name": "kotlin",
   "pygments_lexer": "kotlin",
   "version": "1.5.0-dev-1206"
  }
 },
 "nbformat": 4,
 "nbformat_minor": 5
}