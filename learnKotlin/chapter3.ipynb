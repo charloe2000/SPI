{
 "metadata": {
  "language_info": {
   "codemirror_mode": {
    "name": "ipython",
    "version": 3
   },
   "file_extension": ".py",
   "mimetype": "text/x-python",
   "name": "python",
   "nbconvert_exporter": "python",
   "pygments_lexer": "ipython3",
   "version": "3.7.5-final"
  },
  "orig_nbformat": 2,
  "kernelspec": {
   "name": "kotlin",
   "display_name": "Kotlin",
   "language": "kotlin"
  }
 },
 "nbformat": 4,
 "nbformat_minor": 2,
 "cells": [
  {
   "source": [
    "## 3.1 with, run, apply "
   ],
   "cell_type": "markdown",
   "metadata": {}
  },
  {
   "cell_type": "code",
   "execution_count": 2,
   "metadata": {},
   "outputs": [
    {
     "output_type": "stream",
     "name": "stderr",
     "text": [
      "Line_1.jupyter.kts (1:14 - 18) Not enough information to infer type variable R\nLine_1.jupyter.kts (1:19 - 22) Unresolved reference: obj"
     ]
    }
   ],
   "source": [
    "val result = with(obj) {\n",
    "    \"value\"\n",
    "}"
   ]
  },
  {
   "cell_type": "code",
   "execution_count": 3,
   "metadata": {},
   "outputs": [
    {
     "output_type": "stream",
     "name": "stdout",
     "text": [
      "Start eating fruits.\napple\nbanana\norange\npear\ngrape\nAte all fruits\n"
     ]
    }
   ],
   "source": [
    "val list = listOf(\"apple\", \"banana\", \"orange\", \"pear\", \"grape\")\n",
    "val builder = StringBuilder()\n",
    "builder.append(\"Start eating fruits.\\n\")\n",
    "for (fruit in list) {\n",
    "    builder.append(fruit).append(\"\\n\")\n",
    "}\n",
    "builder.append(\"Ate all fruits\")\n",
    "val result = builder.toString()\n",
    "println(result)"
   ]
  },
  {
   "cell_type": "code",
   "execution_count": 5,
   "metadata": {},
   "outputs": [
    {
     "output_type": "stream",
     "name": "stdout",
     "text": [
      "Start eating fruits.\napple\nbanana\norange\npear\ngrape\nAte all fruits\n"
     ]
    }
   ],
   "source": [
    "val list = listOf(\"apple\", \"banana\", \"orange\", \"pear\", \"grape\")\n",
    "\n",
    "val result = with(StringBuilder()) {\n",
    "    append(\"Start eating fruits.\\n\")\n",
    "    for (fruit in list) {\n",
    "        append(fruit).append(\"\\n\")\n",
    "    }\n",
    "    append(\"Ate all fruits\")\n",
    "    toString()\n",
    "}\n",
    "println(result)"
   ]
  },
  {
   "cell_type": "code",
   "execution_count": 6,
   "metadata": {},
   "outputs": [
    {
     "output_type": "stream",
     "name": "stderr",
     "text": [
      "Line_146.jupyter.kts (1:14 - 17) Unresolved reference: obj"
     ]
    }
   ],
   "source": [
    "val result = obj.run {\n",
    "    \"value\"\n",
    "}"
   ]
  },
  {
   "cell_type": "code",
   "execution_count": 7,
   "metadata": {},
   "outputs": [
    {
     "output_type": "stream",
     "name": "stdout",
     "text": [
      "Start eating fruits.\napple\nbanana\norange\npear\ngrape\nAte all fruits.\n"
     ]
    }
   ],
   "source": [
    "val list = listOf(\"apple\", \"banana\", \"orange\", \"pear\", \"grape\")\n",
    "\n",
    "val result = StringBuilder().run { \n",
    "    append(\"Start eating fruits.\\n\")\n",
    "    for (fruit in list) {\n",
    "        append(fruit).append(\"\\n\")\n",
    "    }\n",
    "    append(\"Ate all fruits.\")\n",
    "    toString()\n",
    "}\n",
    "println(result)"
   ]
  },
  {
   "cell_type": "code",
   "execution_count": null,
   "metadata": {},
   "outputs": [],
   "source": [
    "//apply无法指定返回值，只能返回调用对象本身\n",
    "val result = obj.apply {\n",
    "\n",
    "}"
   ]
  },
  {
   "cell_type": "code",
   "execution_count": 9,
   "metadata": {},
   "outputs": [
    {
     "output_type": "stream",
     "name": "stdout",
     "text": [
      "Start eating fruits.\napple\nbanana\norange\npear\ngrape\nAte all fruits\n"
     ]
    }
   ],
   "source": [
    "val list = listOf(\"apple\", \"banana\", \"orange\", \"pear\", \"grape\")\n",
    "\n",
    "val result = StringBuilder().apply {\n",
    "    append(\"Start eating fruits.\\n\")\n",
    "    for (fruit in list) {\n",
    "        append(fruit).append(\"\\n\")\n",
    "    }\n",
    "    append(\"Ate all fruits\")\n",
    "}\n",
    "println(result.toString())"
   ]
  },
  {
   "source": [
    "## 3.2 定义静态方法"
   ],
   "cell_type": "markdown",
   "metadata": {}
  },
  {
   "cell_type": "code",
   "execution_count": 12,
   "metadata": {},
   "outputs": [],
   "source": [
    "// 单实例类，类中的所有方法都可以使用Util.doAction()的形式调用\n",
    "object Util {\n",
    "    fun doAction() {\n",
    "        println(\"do action\")\n",
    "    }\n",
    "}"
   ]
  },
  {
   "cell_type": "code",
   "execution_count": 13,
   "metadata": {},
   "outputs": [],
   "source": [
    "// 让类中某个方法称为静态方法 Util.doAction2()\n",
    "class Util {\n",
    "    fun doAction1() {\n",
    "        println(\"do action1\")\n",
    "    }\n",
    "\n",
    "    companion object {\n",
    "        fun doAction2() {\n",
    "            println(\"do action2\")\n",
    "        }\n",
    "    }\n",
    "}"
   ]
  },
  {
   "cell_type": "code",
   "execution_count": 14,
   "metadata": {},
   "outputs": [],
   "source": [
    "// 真正的静态方法\n",
    "class Util {\n",
    "    fun doAction1() {\n",
    "        println(\"do action1\")\n",
    "    }\n",
    "\n",
    "    companion object {\n",
    "        @JvmStatic\n",
    "        fun doAction2() {\n",
    "            println(\"do action2\")\n",
    "        }\n",
    "    }\n",
    "}"
   ]
  },
  {
   "cell_type": "code",
   "execution_count": null,
   "metadata": {},
   "outputs": [],
   "source": []
  }
 ]
}